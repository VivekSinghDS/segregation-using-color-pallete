{
 "cells": [
  {
   "cell_type": "code",
   "execution_count": 87,
   "id": "11e90e36",
   "metadata": {},
   "outputs": [],
   "source": [
    "from sklearn.cluster import KMeans\n",
    "import matplotlib.pyplot as plt\n",
    "import numpy as np\n",
    "import cv2\n",
    "\n",
    "from collections import Counter\n",
    "from skimage.color import rgb2lab, deltaE_cie76\n",
    "import os\n",
    "\n",
    "%matplotlib inline"
   ]
  },
  {
   "cell_type": "code",
   "execution_count": 88,
   "id": "047afd53",
   "metadata": {},
   "outputs": [],
   "source": [
    "def hextriplet(colortuple):\n",
    "    return '#' + ''.join(f'{int(i):02X}' for i in colortuple)"
   ]
  },
  {
   "cell_type": "code",
   "execution_count": 89,
   "id": "0bc5996c",
   "metadata": {},
   "outputs": [],
   "source": [
    "def RGB2HEX(color):\n",
    "        return \"#{:02x}{:02x}{:02x}\".format(int(color[0]), int(color[1]), int(color[2]))\n",
    "def get_significant_colors(image_path):\n",
    "    image = cv2.imread(image_path)\n",
    "    image = cv2.cvtColor(image, cv2.COLOR_BGR2RGB)\n",
    "    modified_image = cv2.resize(image, (600, 400), interpolation = cv2.INTER_AREA)\n",
    "    modified_image = modified_image.reshape(modified_image.shape[0]*modified_image.shape[1], 3)\n",
    "\n",
    "    clf = KMeans(n_clusters = 8)\n",
    "    labels = clf.fit_predict(modified_image)\n",
    "\n",
    "    counts = Counter(labels)\n",
    "\n",
    "\n",
    "    counts = {k: v for k, v in sorted(counts.items(), key=lambda item: item[1], reverse = True)}\n",
    "    total = 0\n",
    "    for key in counts:\n",
    "        total+=counts[key]\n",
    "\n",
    "    threshold = 0.0\n",
    "    significant_colors_list = []\n",
    "    for key in counts:\n",
    "        if(threshold<75.0):\n",
    "            threshold += (counts[key]/total)*100\n",
    "            significant_colors_list.append(counts[key])\n",
    "\n",
    "#     print(significant_colors_list)\n",
    "\n",
    "    # sig_colors = clf.cluster_centers_\n",
    "    # print(sig_colors)\n",
    "    # ordered_colors_sig = [sig_colors[i] for i in ]\n",
    "    \n",
    "\n",
    "\n",
    "    center_colors = clf.cluster_centers_\n",
    "    ordered_colors = [center_colors[i] for i in counts.keys()]\n",
    "    # rgb_colors = [ordered_colors[i] for i in counts.keys()]\n",
    "    rgb_demo = []\n",
    "    for key in counts:\n",
    "        if(counts[key] in significant_colors_list):\n",
    "            rgb_demo.append(ordered_colors[key])\n",
    "    hex_colors = [RGB2HEX(ordered_colors[i]) for i in counts.keys()]      \n",
    "#     print(len(rgb_demo))\n",
    "#     print(rgb_demo)\n",
    "    # print(rgb_colors)\n",
    "    if (True):\n",
    "        plt.figure(figsize = (8, 6))\n",
    "        plt.pie(counts.values(), autopct='%1.1f%%',labels = hex_colors, colors = hex_colors)\n",
    "        \n",
    "    return rgb_demo\n"
   ]
  },
  {
   "cell_type": "code",
   "execution_count": 90,
   "id": "317d8df2",
   "metadata": {},
   "outputs": [
    {
     "data": {
      "image/png": "[encoded data removed]",
      "text/plain": [
       "<Figure size 576x432 with 1 Axes>"
      ]
     },
     "metadata": {},
     "output_type": "display_data"
    }
   ],
   "source": [
    "color_array = get_significant_colors('./sample13.jpeg')"
   ]
  },
  {
   "cell_type": "code",
   "execution_count": 91,
   "id": "d4b9dffd",
   "metadata": {},
   "outputs": [
    {
     "data": {
      "text/plain": [
       "array([29.99530316,  8.75042699,  9.59265585])"
      ]
     },
     "execution_count": 91,
     "metadata": {},
     "output_type": "execute_result"
    }
   ],
   "source": [
    "color_array[0]"
   ]
  },
  {
   "cell_type": "code",
   "execution_count": 92,
   "id": "087ad5f6",
   "metadata": {},
   "outputs": [],
   "source": [
    "def get_colors(image, number_of_colors):\n",
    "    \n",
    "    modified_image = cv2.resize(image, (600, 400), interpolation = cv2.INTER_AREA)\n",
    "    modified_image = modified_image.reshape(modified_image.shape[0]*modified_image.shape[1], 3)\n",
    "    \n",
    "    clf = KMeans(n_clusters = number_of_colors)\n",
    "    labels = clf.fit_predict(modified_image)\n",
    "\n",
    "    counts = Counter(labels)\n",
    "#     print('count before is ', counts)\n",
    "    \n",
    "    # sort to ensure correct color percentage\n",
    "\n",
    "#     print(counts.items())\n",
    "    counts = {k: v for k, v in sorted(counts.items(), key=lambda item: item[1], reverse = True)}\n",
    "#     print('i am here')\n",
    "#     print(clf.cluster_centers_)\n",
    "#     print('count is ', counts)\n",
    "    center_colors = clf.cluster_centers_\n",
    "\n",
    "    # We get ordered colors by iterating through the keys\n",
    "    ordered_colors = [center_colors[i] for i in counts.keys()]\n",
    "\n",
    "    hex_colors = [RGB2HEX(ordered_colors[i]) for i in counts.keys()]\n",
    "#     print('hex colors is ', hex_colors)\n",
    "    rgb_colors = [ordered_colors[i] for i in counts.keys()]\n",
    "#     print(counts.values(), hex_colors)\n",
    "#     if (show_chart):\n",
    "#         plt.figure(figsize = (8, 6))\n",
    "#         plt.pie(counts.values(), autopct='%1.1f%%',labels = hex_colors, colors = hex_colors)\n",
    "    \n",
    "    return rgb_colors\n",
    "\n",
    "def get_image(image_path):\n",
    "    image = cv2.imread(image_path)\n",
    "    image = cv2.cvtColor(image, cv2.COLOR_BGR2RGB)\n",
    "    return image"
   ]
  },
  {
   "cell_type": "code",
   "execution_count": 93,
   "id": "2000038c",
   "metadata": {},
   "outputs": [],
   "source": [
    "def show_selected_images(image_dir, color, threshold, colors_to_match):\n",
    "    index = 1\n",
    "    def match_image_by_color(image, color, threshold, number_of_colors): \n",
    "    \n",
    "        image_colors= get_colors(image, number_of_colors)\n",
    "        \n",
    "        selected_color = rgb2lab(np.uint8(np.asarray([[color]])))\n",
    "\n",
    "        select_image = False\n",
    "        for i in range(number_of_colors):\n",
    "            curr_color = rgb2lab(np.uint8(np.asarray([[image_colors[i]]])))\n",
    "            diff = deltaE_cie76(selected_color, curr_color)\n",
    "    #         print(diff[0][0], ' -> is the difference ')\n",
    "    #         print(threshold, ' -> is the threshold')\n",
    "            if (diff[0][0] < threshold):\n",
    "\n",
    "                select_image = True\n",
    "                \n",
    "        \n",
    "        return select_image\n",
    "        \n",
    "    \n",
    "\n",
    "    images = []\n",
    "    result_file = []\n",
    "    for file in os.listdir(image_dir):\n",
    "        if not file.startswith('.'):\n",
    "            images.append(get_image(os.path.join(image_dir, file)))\n",
    "        for i in range(len(images)):\n",
    "            selected = match_image_by_color(images[i],\n",
    "                                        color,\n",
    "                                        threshold,\n",
    "                                        colors_to_match)\n",
    "            \n",
    "        if (selected):\n",
    "            result_file.append(file)\n",
    "            print(file, ' found similar')\n",
    "#             print(index)\n",
    "#             if(index == 5):\n",
    "#                 break\n",
    "#             plt.subplot(1, 15, index)\n",
    "#             plt.imshow(images[i])\n",
    "            index += 1\n",
    "        \n",
    "    return result_file"
   ]
  },
  {
   "cell_type": "code",
   "execution_count": 94,
   "id": "0733d9e6",
   "metadata": {},
   "outputs": [
    {
     "name": "stdout",
     "output_type": "stream",
     "text": [
      "trial1.jpeg  found similar\n",
      "trial7.jpeg  found similar\n",
      "sample22.jpeg  found similar\n",
      "sample17.jpeg  found similar\n",
      "sample4.jpg  found similar\n",
      "trail3.jpeg  found similar\n",
      "trail2.jpeg  found similar\n",
      "sample2.jpeg  found similar\n",
      "['trial1.jpeg', 'trial7.jpeg', 'sample22.jpeg', 'sample17.jpeg', 'sample4.jpg', 'trail3.jpeg', 'trail2.jpeg', 'sample2.jpeg']\n",
      "--------------------\n",
      "[]\n"
     ]
    }
   ],
   "source": [
    "import time \n",
    "import shutil\n",
    "start = time.time()\n",
    "result_images= show_selected_images('sample_try/', color_array[0], threshold=25, colors_to_match=2)\n",
    "print(result_images)\n",
    "print('-'*20)\n",
    "color_name = hextriplet(color_array[0])\n",
    "# result_images= show_selected_images('sample_try/', color_array[1], threshold=25, colors_to_match=3)\n",
    "# print(result_images)\n",
    "os.mkdir(color_name)\n",
    "print(result_images)\n",
    "for image in result_images:\n",
    "    try:\n",
    "        shutil.move('./sample_try/'+image, './'+color_name+'/'+image)\n",
    "    except:\n",
    "        continue\n",
    "    \n",
    "print('Directory created successfully and all the files are saved')\n",
    "print('Time for the process : ', time.time()-start)"
   ]
  },
  {
   "cell_type": "code",
   "execution_count": 76,
   "id": "5118f258",
   "metadata": {},
   "outputs": [
    {
     "data": {
      "text/plain": [
       "24"
      ]
     },
     "execution_count": 76,
     "metadata": {},
     "output_type": "execute_result"
    }
   ],
   "source": [
    "# image = './images/sample13.jpeg'\n",
    "\n",
    "# shutil.move('./images/'+image, dir_name+'/'+image)\n",
    "\n",
    "len(os.listdir('./sample_try/'))"
   ]
  },
  {
   "cell_type": "code",
   "execution_count": 72,
   "id": "2ff768fe",
   "metadata": {},
   "outputs": [],
   "source": [
    "#hextriplet(color_array[0])\n",
    "# str(dir_name)"
   ]
  },
  {
   "cell_type": "code",
   "execution_count": 73,
   "id": "f57f0a2a",
   "metadata": {},
   "outputs": [],
   "source": [
    "#os.rename('sample13.jpeg', x+'/sample13.jpeg')"
   ]
  },
  {
   "cell_type": "code",
   "execution_count": 74,
   "id": "7280cbd3",
   "metadata": {},
   "outputs": [],
   "source": [
    "# image = 'sample14.jpeg'\n",
    "# color_name = hextriplet(color_array[0])\n",
    "# os.mkdir(color_name)\n",
    "# shutil.move('./images/'+image, './'+color_name+'/'+image)"
   ]
  },
  {
   "cell_type": "code",
   "execution_count": 75,
   "id": "66a02bdf",
   "metadata": {},
   "outputs": [],
   "source": [
    "# image"
   ]
  },
  {
   "cell_type": "code",
   "execution_count": null,
   "id": "18f4d9c2",
   "metadata": {},
   "outputs": [],
   "source": []
  }
 ],
 "metadata": {
  "kernelspec": {
   "display_name": "color_env",
   "language": "python",
   "name": "color_env"
  },
  "language_info": {
   "codemirror_mode": {
    "name": "ipython",
    "version": 3
   },
   "file_extension": ".py",
   "mimetype": "text/x-python",
   "name": "python",
   "nbconvert_exporter": "python",
   "pygments_lexer": "ipython3",
   "version": "3.8.8"
  }
 },
 "nbformat": 4,
 "nbformat_minor": 5
}
